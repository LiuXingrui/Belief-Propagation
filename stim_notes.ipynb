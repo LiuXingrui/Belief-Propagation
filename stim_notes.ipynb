{
 "cells": [
  {
   "cell_type": "code",
   "execution_count": 1,
   "id": "0479974c",
   "metadata": {},
   "outputs": [],
   "source": [
    "import stim\n",
    "c=stim.Circuit('''\n",
    "H 0\n",
    "Cnot 0 1\n",
    "M 0 1\n",
    "''')\n",
    "#hadarmard on 0th qubit, ... measure both qubits"
   ]
  },
  {
   "cell_type": "code",
   "execution_count": 8,
   "id": "cb0e3d55",
   "metadata": {},
   "outputs": [
    {
     "data": {
      "text/plain": [
       "array([[False, False],\n",
       "       [ True,  True],\n",
       "       [False, False],\n",
       "       [ True,  True]])"
      ]
     },
     "execution_count": 8,
     "metadata": {},
     "output_type": "execute_result"
    }
   ],
   "source": [
    "c.compile_sampler().sample(4)"
   ]
  },
  {
   "cell_type": "code",
   "execution_count": 12,
   "id": "935e5b06",
   "metadata": {},
   "outputs": [
    {
     "data": {
      "text/plain": [
       "stim.Circuit('''\n",
       "    REPEAT 100 {\n",
       "        CX 0 1 2 3 4 5 2 1 4 3 6 5\n",
       "        MR 1 3 5\n",
       "    }\n",
       "''')"
      ]
     },
     "execution_count": 12,
     "metadata": {},
     "output_type": "execute_result"
    }
   ],
   "source": [
    "#retetition code:\n",
    "def rep_code(distance,rounds):\n",
    "    circuit=stim.Circuit()\n",
    "    qubits=range(2*distance+1)\n",
    "    data=qubits[::2]\n",
    "    measure=qubits[1::2]\n",
    "    for m in measure:\n",
    "        circuit.append_operation(\"CNOT\",[m-1,m])\n",
    "    for m in measure:\n",
    "        circuit.append_operation(\"CNOT\",[m+1,m])\n",
    "    circuit.append_operation(\"MR\",measure)\n",
    "    return circuit*rounds\n",
    "\n",
    "rep_code(distance=3,rounds=100)"
   ]
  },
  {
   "cell_type": "code",
   "execution_count": 21,
   "id": "28fc2605",
   "metadata": {},
   "outputs": [
    {
     "name": "stdout",
     "output_type": "stream",
     "text": [
      "range(0, 6)\n",
      "range(1, 7)\n",
      "range(6, 0, -1)\n"
     ]
    }
   ],
   "source": [
    "#CX 0 1 2 3 means CNOT 0 1\n",
    "#               CNOT 2 3\n",
    "qubits=range(2*3+1)\n",
    "pairs1=qubits[:-1] #-1 is the 2nd from last\n",
    "pairs2=qubits[1:]\n",
    "pairs3=qubits[1:][::-1]\n",
    "print(pairs1)\n",
    "print(pairs2)\n",
    "print(pairs3)"
   ]
  },
  {
   "cell_type": "code",
   "execution_count": 22,
   "id": "199b90c5",
   "metadata": {},
   "outputs": [],
   "source": [
    "def rep_code(distance,rounds):\n",
    "    circuit=stim.Circuit()\n",
    "    qubits=range(2*distance+1)\n",
    "    data=qubits[::2]\n",
    "    measure=qubits[1::2]\n",
    "    pairs1=qubits[:-1] #-1 is the 2nd from last\n",
    "    pairs2=qubits[1:][::-1]\n",
    "    circuit.append_operation(\"CNOT\",pairs1)\n",
    "    circuit.append_operation(\"CNOT\",pairs2)\n",
    "    circuit.append_operation(\"MR\",measure)\n",
    "    return circuit*rounds"
   ]
  },
  {
   "cell_type": "code",
   "execution_count": 24,
   "id": "1917c598",
   "metadata": {},
   "outputs": [
    {
     "data": {
      "text/plain": [
       "array([[False, False, False, False, False, False]])"
      ]
     },
     "execution_count": 24,
     "metadata": {},
     "output_type": "execute_result"
    }
   ],
   "source": [
    "rep_code(distance=3,rounds=2).compile_sampler().sample(1)"
   ]
  },
  {
   "cell_type": "code",
   "execution_count": 49,
   "id": "dda221d7",
   "metadata": {},
   "outputs": [
    {
     "data": {
      "text/plain": [
       "'______'"
      ]
     },
     "execution_count": 49,
     "metadata": {},
     "output_type": "execute_result"
    }
   ],
   "source": [
    "def shot(circuit):\n",
    "    sample=circuit.compile_sampler().sample(1)[0]\n",
    "    s=\"\"\n",
    "    for e in sample:\n",
    "        if str(e)==\"False\":\n",
    "            s=s+\"_\"\n",
    "        else:\n",
    "            s=s+\"1\"\n",
    "    return s\n",
    "shot(rep_code(distance=3,rounds=2,noise=0.01))"
   ]
  },
  {
   "cell_type": "code",
   "execution_count": 46,
   "id": "5ad1ecb0",
   "metadata": {},
   "outputs": [
    {
     "data": {
      "text/plain": [
       "'000000'"
      ]
     },
     "execution_count": 46,
     "metadata": {},
     "output_type": "execute_result"
    }
   ],
   "source": [
    "#noise is the probability for X error\n",
    "def rep_code(distance,rounds,noise):\n",
    "    circuit=stim.Circuit()\n",
    "    qubits=range(2*distance+1)\n",
    "    data=qubits[::2]\n",
    "    measure=qubits[1::2]\n",
    "    pairs1=qubits[:-1] #-1 is the 2nd from last\n",
    "    pairs2=qubits[1:][::-1]\n",
    "    circuit.append_operation(\"X_ERROR\",data,noise)\n",
    "    #circuit.append_operation(\"DEPOLARIZE\",qubits,noise)\n",
    "    circuit.append_operation(\"CNOT\",pairs1)\n",
    "    circuit.append_operation(\"CNOT\",pairs2)\n",
    "    circuit.append_operation(\"MR\",measure)\n",
    "    return circuit*rounds\n",
    "shot(rep_code(distance=3,rounds=2,noise=0.01))"
   ]
  },
  {
   "cell_type": "code",
   "execution_count": 28,
   "id": "e5e5f47a",
   "metadata": {},
   "outputs": [
    {
     "data": {
      "text/plain": [
       "80"
      ]
     },
     "execution_count": 28,
     "metadata": {},
     "output_type": "execute_result"
    }
   ],
   "source": [
    "import shutil\n",
    "shutil.get_terminal_size().columns\n",
    "#os.get_terminal_size() method in Python is used to query the size of a terminal. \n",
    "#This method returns the size of a terminal as a pair columns and lines. \n",
    "#Here, columns represents width of the terminal window in characters and lines \n",
    "#represents height of the terminal window in characters.\n",
    "\n"
   ]
  },
  {
   "cell_type": "code",
   "execution_count": 47,
   "id": "856d27a2",
   "metadata": {},
   "outputs": [],
   "source": [
    "nc=shutil.get_terminal_size().columns"
   ]
  },
  {
   "cell_type": "code",
   "execution_count": 50,
   "id": "7d5e266e",
   "metadata": {},
   "outputs": [
    {
     "data": {
      "text/plain": [
       "'________11_________________________11___________________________________________________11_________________________11___________________________________________________11_________________________11___________________________________________________11___11____________________11___________________________________________________11___11__11________________11_________________________11________________________11___11__11_______________1_1____11___________________11________________________11___11__11_______________1_1____11___________________11________________________11___11__11_______________1_1____11___________________11________________________11___11__11______________1__1____11___________________11________________________11___11__11______________1__1____11___________________11________________________11___11__11__11__________1__1_111_1___________________11___________11___________11___11__11__11__________1__1_111_1___________________11___________11___________11___1_1_11__11__________1__1_111_1___________________11___________11___________11___1_1_11__11__________1__1_111_1___________________11___________11___________11___1_1_11__11__________1__1_111_1___________________11________11_11___________11___1_1_11__11__________1__1_111_1___________________11________11_11___________11___1_1_11__11__________1__1_111_1___________________11________11_11___________11___1_1_11__11___________1_1_111_1___________________11________11_11___________11___1_1_11__11___________1_1_111_1___________________11________11_11___________11___1_1_11_1_1___________1_1_111_1___________________11________11_11___'"
      ]
     },
     "execution_count": 50,
     "metadata": {},
     "output_type": "execute_result"
    }
   ],
   "source": [
    "shot(rep_code(distance=nc,rounds=20,noise=0.01))"
   ]
  },
  {
   "cell_type": "code",
   "execution_count": 60,
   "id": "43e36fdb",
   "metadata": {},
   "outputs": [
    {
     "data": {
      "text/plain": [
       "stim.Circuit('''\n",
       "    M 1 3 5\n",
       "    REPEAT 2 {\n",
       "        CX 0 1 2 3 4 5\n",
       "        DEPOLARIZE2(0.01) 0 1 2 3 4 5\n",
       "        CX 6 5 4 3 2 1\n",
       "        DEPOLARIZE2(0.01) 6 5 4 3 2 1\n",
       "        DEPOLARIZE1(0.01) 0 1 2 3 4 5 6\n",
       "        MR 1 3 5\n",
       "        DETECTOR rec[-1] rec[-4]\n",
       "        DETECTOR rec[-2] rec[-5]\n",
       "        DETECTOR rec[-3] rec[-6]\n",
       "    }\n",
       "''')"
      ]
     },
     "execution_count": 60,
     "metadata": {},
     "output_type": "execute_result"
    }
   ],
   "source": [
    "def rep_code(distance,rounds,noise):\n",
    "    circuit=stim.Circuit()\n",
    "    qubits=range(2*distance+1)\n",
    "    data=qubits[::2]\n",
    "    measure=qubits[1::2]\n",
    "    pairs1=qubits[:-1] #-1 is the 2nd from last\n",
    "    pairs2=qubits[1:][::-1]\n",
    "    #circuit.append_operation(\"DEPOLARIZE2\",pairs1,noise)\n",
    "    \n",
    "    circuit.append_operation(\"CNOT\",pairs1)\n",
    "    circuit.append_operation(\"DEPOLARIZE2\",pairs1,noise)\n",
    "    \n",
    "    circuit.append_operation(\"CNOT\",pairs2)\n",
    "    circuit.append_operation(\"DEPOLARIZE2\",pairs2,noise)\n",
    "    \n",
    "    circuit.append_operation(\"DEPOLARIZE1\",qubits,noise)#single qubits depo.. error\n",
    "    circuit.append_operation(\"MR\",measure)\n",
    "    \n",
    "    for k in range(len(measure)):\n",
    "        circuit.append_operation(\"DETECTOR\",[stim.target_rec(-1-k),stim.target_rec(-1-distance-k)])\n",
    "        \n",
    "        \n",
    "    #circuit.append_operation(\"DETECTOR\",[stim.target_rec(-1),stim.target_rec(-1-distance)])\n",
    "    #compare the last measurement with the measurement on the same qubits in the previous round.Because the \n",
    "    #number of measurements is the distance of the code\n",
    "    \n",
    "    full_circuit=stim.Circuit()\n",
    "    full_circuit.append_operation(\"M\",measure)\n",
    "    full_circuit+=circuit*rounds\n",
    "    return full_circuit\n",
    "rep_code(distance=3,rounds=2,noise=0.01)"
   ]
  },
  {
   "cell_type": "code",
   "execution_count": 61,
   "id": "6f07f08a",
   "metadata": {},
   "outputs": [
    {
     "data": {
      "text/plain": [
       "'___________________________________________________1______________________________________1_____________________________1_________1______________________________________1_____________________________1____________11________________________________________________11___________1_______________________11____11________________11______________________________1___________________________________________________________________________________________________________________________________________11___________________________1_________________________________1____________________________________________1___________________11_____1_______1_______________________________________________________________11______1__________________________________________1_______________________11_______________________1______________11______________1__________________1____________________________1___1_________________11___________________1_______1_______________________________1___1________________________________11_1___1_______________________________________1____11______________________________1__1____________________________________________11___1__________________________1_______11___________________________________________1______________________________________1_________________1____________________1________________________________________1______________________________________1__________________________________________________________1___________________________1________________________________________________________11_____________________1_____________1__________________________________________'"
      ]
     },
     "execution_count": 61,
     "metadata": {},
     "output_type": "execute_result"
    }
   ],
   "source": [
    "def detect_shot(circuit):\n",
    "    sample=circuit.compile_detector_sampler().sample(1)[0]\n",
    "    s=\"\"\n",
    "    for e in sample:\n",
    "        if str(e)==\"False\":\n",
    "            s=s+\"_\"\n",
    "        else:\n",
    "            s=s+\"1\"\n",
    "    return s\n",
    "detect_shot(rep_code(distance=nc,rounds=20,noise=0.01))"
   ]
  },
  {
   "cell_type": "code",
   "execution_count": null,
   "id": "6e81afc7",
   "metadata": {},
   "outputs": [],
   "source": []
  }
 ],
 "metadata": {
  "kernelspec": {
   "display_name": "Python 3 (ipykernel)",
   "language": "python",
   "name": "python3"
  },
  "language_info": {
   "codemirror_mode": {
    "name": "ipython",
    "version": 3
   },
   "file_extension": ".py",
   "mimetype": "text/x-python",
   "name": "python",
   "nbconvert_exporter": "python",
   "pygments_lexer": "ipython3",
   "version": "3.9.7"
  }
 },
 "nbformat": 4,
 "nbformat_minor": 5
}
